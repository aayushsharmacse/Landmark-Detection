{
 "cells": [
  {
   "cell_type": "code",
   "execution_count": 4,
   "id": "ea5ef138",
   "metadata": {},
   "outputs": [],
   "source": [
    "from tensorflow.keras.models import load_model"
   ]
  },
  {
   "cell_type": "code",
   "execution_count": 14,
   "id": "3d9fda2a",
   "metadata": {},
   "outputs": [],
   "source": [
    "model_loaded = load_model(\"..\\\\Model Weights\\\\best_model.keras\")\n",
    "# ..\\Model Weights\\my_model1.keras\n",
    "# model_loaded = load_model(\"..\\Model Weights\\my_model1.keras\")\n"
   ]
  },
  {
   "cell_type": "code",
   "execution_count": 15,
   "id": "8dbef10a",
   "metadata": {},
   "outputs": [
    {
     "data": {
      "text/plain": [
       "<Functional name=functional_42, built=True>"
      ]
     },
     "execution_count": 15,
     "metadata": {},
     "output_type": "execute_result"
    }
   ],
   "source": [
    "model_loaded"
   ]
  },
  {
   "cell_type": "code",
   "execution_count": null,
   "id": "09a91ee8",
   "metadata": {},
   "outputs": [],
   "source": [
    "##do testing here"
   ]
  }
 ],
 "metadata": {
  "kernelspec": {
   "display_name": "Python 3 (ipykernel)",
   "language": "python",
   "name": "python3"
  },
  "language_info": {
   "codemirror_mode": {
    "name": "ipython",
    "version": 3
   },
   "file_extension": ".py",
   "mimetype": "text/x-python",
   "name": "python",
   "nbconvert_exporter": "python",
   "pygments_lexer": "ipython3",
   "version": "3.11.4"
  }
 },
 "nbformat": 4,
 "nbformat_minor": 5
}
